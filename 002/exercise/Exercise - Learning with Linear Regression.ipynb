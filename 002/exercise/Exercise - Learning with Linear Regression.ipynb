{
 "cells": [
  {
   "cell_type": "markdown",
   "metadata": {},
   "source": [
    "# (THIS CELL IS FOR DEVELOPMENT ONLY)\n",
    "## (THIS CELL SHOULD BE DELETED IN PRODUCTION)\n",
    "\n",
    "### Completion Progress (Approximate): 1%\n",
    "### To-Do:\n",
    "- Finish Building Skeleton of Tasks.\n",
    "- Acquire Dataset that:\n",
    "    - makes sense for Linear Regression with only one feature\n",
    "    - And also has multiple features\n",
    "- Add more To-Do items (meta To-Do)\n"
   ]
  }
 ],
 "metadata": {
  "kernelspec": {
   "display_name": "Python 3",
   "language": "python",
   "name": "python3"
  },
  "language_info": {
   "codemirror_mode": {
    "name": "ipython",
    "version": 3
   },
   "file_extension": ".py",
   "mimetype": "text/x-python",
   "name": "python",
   "nbconvert_exporter": "python",
   "pygments_lexer": "ipython3",
   "version": "3.7.1"
  }
 },
 "nbformat": 4,
 "nbformat_minor": 4
}
