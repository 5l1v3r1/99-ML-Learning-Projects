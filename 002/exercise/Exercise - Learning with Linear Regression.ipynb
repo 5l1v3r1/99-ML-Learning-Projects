{
 "cells": [
  {
   "cell_type": "markdown",
   "metadata": {},
   "source": [
    "# (THIS CELL IS FOR DEVELOPMENT ONLY)\n",
    "## (THIS CELL SHOULD BE DELETED IN PRODUCTION)\n",
    "\n",
    "### Completion Progress (Approximate): 1%\n",
    "### To-Do:\n",
    "- Finish Building Skeleton of Tasks.\n",
    "- Acquire Dataset that:\n",
    "    - makes sense for Linear Regression with only one feature\n",
    "    - And also has multiple features\n",
    "- Add more To-Do items (meta To-Do)\n",
    "\n",
    "### Excercise Tasks:\n",
    "- 1 - explain what the task is... input/output (features vs predicted variable)\n",
    "- 2 - \"How will we solve this?\"... present the first ML idea, Linear Regression line formula (y = w*x+b) or (y = b+w_1*x_1+w_2*x_2+...w_n*x_n)\n",
    "- 3 - \"How to evaluate a good 'w' value?\"... present the cost function\n",
    "- 4 - \"How are we going to pick a good w value\" present gradient descent on the cost function"
   ]
  },
  {
   "cell_type": "code",
   "execution_count": null,
   "metadata": {},
   "outputs": [],
   "source": []
  },
  {
   "cell_type": "markdown",
   "metadata": {},
   "source": [
    "example equation:\n",
    "Loss\n",
    "$$LOSS(\\theta)=\\frac{1}{n} \\sum_{i=1}^{n} (\\hat{y}_i-y_i)^2$$"
   ]
  }
 ],
 "metadata": {
  "kernelspec": {
   "display_name": "Python 3",
   "language": "python",
   "name": "python3"
  },
  "language_info": {
   "codemirror_mode": {
    "name": "ipython",
    "version": 3
   },
   "file_extension": ".py",
   "mimetype": "text/x-python",
   "name": "python",
   "nbconvert_exporter": "python",
   "pygments_lexer": "ipython3",
   "version": "3.7.1"
  }
 },
 "nbformat": 4,
 "nbformat_minor": 4
}
